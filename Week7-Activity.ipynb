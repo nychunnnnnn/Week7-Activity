{
 "cells": [
  {
   "cell_type": "markdown",
   "id": "a0c11747",
   "metadata": {},
   "source": [
    "# Weekly Activity (Tutorial 7)"
   ]
  },
  {
   "cell_type": "markdown",
   "id": "28f74002",
   "metadata": {},
   "source": [
    "## Directory"
   ]
  },
  {
   "cell_type": "code",
   "execution_count": 1,
   "id": "466c2c25",
   "metadata": {},
   "outputs": [],
   "source": [
    "import os \n",
    "os.chdir(\"C:/Users/yichu/Desktop/yichun/UTAR/Y2S3/Mini Project/Week 7/Week 7\")"
   ]
  },
  {
   "cell_type": "code",
   "execution_count": 2,
   "id": "9ebf2556",
   "metadata": {},
   "outputs": [
    {
     "data": {
      "text/plain": [
       "'C:\\\\Users\\\\yichu\\\\Desktop\\\\yichun\\\\UTAR\\\\Y2S3\\\\Mini Project\\\\Week 7\\\\Week 7'"
      ]
     },
     "execution_count": 2,
     "metadata": {},
     "output_type": "execute_result"
    }
   ],
   "source": [
    "%pwd"
   ]
  },
  {
   "cell_type": "markdown",
   "id": "db71c700",
   "metadata": {},
   "source": [
    "## Setup"
   ]
  },
  {
   "cell_type": "code",
   "execution_count": 3,
   "id": "1ed5cb8b",
   "metadata": {},
   "outputs": [
    {
     "data": {
      "text/plain": [
       "True"
      ]
     },
     "execution_count": 3,
     "metadata": {},
     "output_type": "execute_result"
    }
   ],
   "source": [
    "import sys\n",
    "# Python 3.7 is required\n",
    "assert sys.version_info >= (3,7)\n",
    "\n",
    "import cv2 as cv\n",
    "import numpy as np\n",
    "import matplotlib.pyplot as plt\n",
    "\n",
    "# For reproducibility,\n",
    "np.random.seed(99)\n",
    "\n",
    "# Make sure that optimization is enabled\n",
    "if not cv.useOptimized():\n",
    "    cv.setUseOptimized(True)\n",
    "\n",
    "cv.useOptimized()"
   ]
  },
  {
   "cell_type": "markdown",
   "id": "240eaddc",
   "metadata": {},
   "source": [
    "### Activity 1\n",
    "Apply histogram equalization on a histogram equalized image. In other words, apply histogram equalization twice on an image. Is there any difference between the first and second output image? You are free to use any image."
   ]
  },
  {
   "cell_type": "code",
   "execution_count": 4,
   "id": "ec858e8f",
   "metadata": {},
   "outputs": [
    {
     "data": {
      "image/png": "[encoded data removed]",
      "text/plain": [
       "<Figure size 432x288 with 1 Axes>"
      ]
     },
     "metadata": {
      "needs_background": "light"
     },
     "output_type": "display_data"
    }
   ],
   "source": [
    "img = cv.imread('dog1.jfif', 0)\n",
    "\n",
    "eq1 = cv.equalizeHist(img)\n",
    "\n",
    "hist = cv.calcHist([eq1], [0], None, [256], [0,256]) # 256 is excluded\n",
    "\n",
    "cdf = hist.cumsum()\n",
    "cdf_normalized = cdf * float(hist.max()) / cdf.max()\n",
    "\n",
    "plt.plot(cdf_normalized, color = 'b')\n",
    "plt.hist(eq1.flatten(), 256, [0,256], color = 'r')\n",
    "plt.legend(('cdf', 'histogram'), loc = 'upper left')\n",
    "plt.show() "
   ]
  },
  {
   "cell_type": "code",
   "execution_count": 5,
   "id": "6b14158b",
   "metadata": {},
   "outputs": [
    {
     "data": {
      "image/png": "[encoded data removed]",
      "text/plain": [
       "<Figure size 432x288 with 1 Axes>"
      ]
     },
     "metadata": {
      "needs_background": "light"
     },
     "output_type": "display_data"
    }
   ],
   "source": [
    "eq2 = cv.equalizeHist(eq1)\n",
    "\n",
    "hist = cv.calcHist([eq2], [0], None, [256], [0,256]) # 256 is excluded\n",
    "\n",
    "cdf = hist.cumsum()\n",
    "cdf_normalized = cdf * float(hist.max()) / cdf.max()\n",
    "\n",
    "plt.plot(cdf_normalized, color = 'b')\n",
    "plt.hist(eq2.flatten(), 256, [0,256], color = 'r')\n",
    "plt.legend(('cdf', 'histogram'), loc = 'upper left')\n",
    "plt.show() "
   ]
  },
  {
   "cell_type": "code",
   "execution_count": 6,
   "id": "d76efda3",
   "metadata": {},
   "outputs": [],
   "source": [
    "cv.imshow('Result: img, eq1, eq2', np.hstack((img, eq1, eq2)))\n",
    "cv.waitKey(0)\n",
    "cv.destroyAllWindows()"
   ]
  },
  {
   "cell_type": "markdown",
   "id": "57e8e6cc",
   "metadata": {},
   "source": [
    "#### Comment: \n",
    "If histogram equalization is applied twice, there is **no change**. This is because a histogram equalization is **idempotent**. In other words, the value of the histogram equalization does not change when it is multiplied by itself"
   ]
  },
  {
   "cell_type": "markdown",
   "id": "5515209b",
   "metadata": {},
   "source": [
    "### Activity 2\n",
    "Load the image 'electronic.jfif'. Then,\n",
    "1. Experiment with different kernel size. Which kernel size is the most appropriate?\n",
    "2. Perform edge detection using Sobel operator (combined both x and y) with and without image smoothing (Gaussian blurring). Display the 2 images.\n",
    "3. Try Laplacian of Gaussian"
   ]
  },
  {
   "cell_type": "code",
   "execution_count": 8,
   "id": "0bfb7f17",
   "metadata": {},
   "outputs": [
    {
     "ename": "error",
     "evalue": "OpenCV(4.6.0) D:\\a\\opencv-python\\opencv-python\\opencv\\modules\\imgproc\\src\\deriv.cpp:104: error: (-211:One of the arguments' values is out of range) The kernel size must be odd and not larger than 31 in function 'cv::getSobelKernels'\n",
     "output_type": "error",
     "traceback": [
      "\u001b[1;31m---------------------------------------------------------------------------\u001b[0m",
      "\u001b[1;31merror\u001b[0m                                     Traceback (most recent call last)",
      "Input \u001b[1;32mIn [8]\u001b[0m, in \u001b[0;36mthresh_callback\u001b[1;34m(val)\u001b[0m\n\u001b[0;32m      4\u001b[0m \u001b[38;5;28;01mdef\u001b[39;00m \u001b[38;5;21mthresh_callback\u001b[39m(val):\n\u001b[0;32m      5\u001b[0m     kernel_size \u001b[38;5;241m=\u001b[39m val\n\u001b[1;32m----> 7\u001b[0m     sobelx \u001b[38;5;241m=\u001b[39m cv\u001b[38;5;241m.\u001b[39mconvertScaleAbs(np\u001b[38;5;241m.\u001b[39mabsolute(\u001b[43mcv\u001b[49m\u001b[38;5;241;43m.\u001b[39;49m\u001b[43mSobel\u001b[49m\u001b[43m(\u001b[49m\u001b[43mimg\u001b[49m\u001b[43m,\u001b[49m\u001b[43m \u001b[49m\u001b[43mcv\u001b[49m\u001b[38;5;241;43m.\u001b[39;49m\u001b[43mCV_64F\u001b[49m\u001b[43m,\u001b[49m\u001b[43m \u001b[49m\u001b[38;5;241;43m1\u001b[39;49m\u001b[43m,\u001b[49m\u001b[43m \u001b[49m\u001b[38;5;241;43m0\u001b[39;49m\u001b[43m,\u001b[49m\u001b[43m \u001b[49m\u001b[43mksize\u001b[49m\u001b[38;5;241;43m=\u001b[39;49m\u001b[43mkernel_size\u001b[49m\u001b[43m)\u001b[49m))\n\u001b[0;32m      8\u001b[0m     sobely \u001b[38;5;241m=\u001b[39m cv\u001b[38;5;241m.\u001b[39mconvertScaleAbs(np\u001b[38;5;241m.\u001b[39mabsolute(cv\u001b[38;5;241m.\u001b[39mSobel(img, cv\u001b[38;5;241m.\u001b[39mCV_64F, \u001b[38;5;241m0\u001b[39m, \u001b[38;5;241m1\u001b[39m, ksize\u001b[38;5;241m=\u001b[39mkernel_size)))\n\u001b[0;32m      9\u001b[0m     sobelxy \u001b[38;5;241m=\u001b[39m cv\u001b[38;5;241m.\u001b[39mbitwise_or(sobelx,sobely)\n",
      "\u001b[1;31merror\u001b[0m: OpenCV(4.6.0) D:\\a\\opencv-python\\opencv-python\\opencv\\modules\\imgproc\\src\\deriv.cpp:104: error: (-211:One of the arguments' values is out of range) The kernel size must be odd and not larger than 31 in function 'cv::getSobelKernels'\n"
     ]
    },
    {
     "ename": "error",
     "evalue": "OpenCV(4.6.0) D:\\a\\opencv-python\\opencv-python\\opencv\\modules\\imgproc\\src\\deriv.cpp:104: error: (-211:One of the arguments' values is out of range) The kernel size must be odd and not larger than 31 in function 'cv::getSobelKernels'\n",
     "output_type": "error",
     "traceback": [
      "\u001b[1;31m---------------------------------------------------------------------------\u001b[0m",
      "\u001b[1;31merror\u001b[0m                                     Traceback (most recent call last)",
      "Input \u001b[1;32mIn [8]\u001b[0m, in \u001b[0;36mthresh_callback\u001b[1;34m(val)\u001b[0m\n\u001b[0;32m      4\u001b[0m \u001b[38;5;28;01mdef\u001b[39;00m \u001b[38;5;21mthresh_callback\u001b[39m(val):\n\u001b[0;32m      5\u001b[0m     kernel_size \u001b[38;5;241m=\u001b[39m val\n\u001b[1;32m----> 7\u001b[0m     sobelx \u001b[38;5;241m=\u001b[39m cv\u001b[38;5;241m.\u001b[39mconvertScaleAbs(np\u001b[38;5;241m.\u001b[39mabsolute(\u001b[43mcv\u001b[49m\u001b[38;5;241;43m.\u001b[39;49m\u001b[43mSobel\u001b[49m\u001b[43m(\u001b[49m\u001b[43mimg\u001b[49m\u001b[43m,\u001b[49m\u001b[43m \u001b[49m\u001b[43mcv\u001b[49m\u001b[38;5;241;43m.\u001b[39;49m\u001b[43mCV_64F\u001b[49m\u001b[43m,\u001b[49m\u001b[43m \u001b[49m\u001b[38;5;241;43m1\u001b[39;49m\u001b[43m,\u001b[49m\u001b[43m \u001b[49m\u001b[38;5;241;43m0\u001b[39;49m\u001b[43m,\u001b[49m\u001b[43m \u001b[49m\u001b[43mksize\u001b[49m\u001b[38;5;241;43m=\u001b[39;49m\u001b[43mkernel_size\u001b[49m\u001b[43m)\u001b[49m))\n\u001b[0;32m      8\u001b[0m     sobely \u001b[38;5;241m=\u001b[39m cv\u001b[38;5;241m.\u001b[39mconvertScaleAbs(np\u001b[38;5;241m.\u001b[39mabsolute(cv\u001b[38;5;241m.\u001b[39mSobel(img, cv\u001b[38;5;241m.\u001b[39mCV_64F, \u001b[38;5;241m0\u001b[39m, \u001b[38;5;241m1\u001b[39m, ksize\u001b[38;5;241m=\u001b[39mkernel_size)))\n\u001b[0;32m      9\u001b[0m     sobelxy \u001b[38;5;241m=\u001b[39m cv\u001b[38;5;241m.\u001b[39mbitwise_or(sobelx,sobely)\n",
      "\u001b[1;31merror\u001b[0m: OpenCV(4.6.0) D:\\a\\opencv-python\\opencv-python\\opencv\\modules\\imgproc\\src\\deriv.cpp:104: error: (-211:One of the arguments' values is out of range) The kernel size must be odd and not larger than 31 in function 'cv::getSobelKernels'\n"
     ]
    },
    {
     "ename": "error",
     "evalue": "OpenCV(4.6.0) D:\\a\\opencv-python\\opencv-python\\opencv\\modules\\imgproc\\src\\deriv.cpp:104: error: (-211:One of the arguments' values is out of range) The kernel size must be odd and not larger than 31 in function 'cv::getSobelKernels'\n",
     "output_type": "error",
     "traceback": [
      "\u001b[1;31m---------------------------------------------------------------------------\u001b[0m",
      "\u001b[1;31merror\u001b[0m                                     Traceback (most recent call last)",
      "Input \u001b[1;32mIn [8]\u001b[0m, in \u001b[0;36mthresh_callback\u001b[1;34m(val)\u001b[0m\n\u001b[0;32m      4\u001b[0m \u001b[38;5;28;01mdef\u001b[39;00m \u001b[38;5;21mthresh_callback\u001b[39m(val):\n\u001b[0;32m      5\u001b[0m     kernel_size \u001b[38;5;241m=\u001b[39m val\n\u001b[1;32m----> 7\u001b[0m     sobelx \u001b[38;5;241m=\u001b[39m cv\u001b[38;5;241m.\u001b[39mconvertScaleAbs(np\u001b[38;5;241m.\u001b[39mabsolute(\u001b[43mcv\u001b[49m\u001b[38;5;241;43m.\u001b[39;49m\u001b[43mSobel\u001b[49m\u001b[43m(\u001b[49m\u001b[43mimg\u001b[49m\u001b[43m,\u001b[49m\u001b[43m \u001b[49m\u001b[43mcv\u001b[49m\u001b[38;5;241;43m.\u001b[39;49m\u001b[43mCV_64F\u001b[49m\u001b[43m,\u001b[49m\u001b[43m \u001b[49m\u001b[38;5;241;43m1\u001b[39;49m\u001b[43m,\u001b[49m\u001b[43m \u001b[49m\u001b[38;5;241;43m0\u001b[39;49m\u001b[43m,\u001b[49m\u001b[43m \u001b[49m\u001b[43mksize\u001b[49m\u001b[38;5;241;43m=\u001b[39;49m\u001b[43mkernel_size\u001b[49m\u001b[43m)\u001b[49m))\n\u001b[0;32m      8\u001b[0m     sobely \u001b[38;5;241m=\u001b[39m cv\u001b[38;5;241m.\u001b[39mconvertScaleAbs(np\u001b[38;5;241m.\u001b[39mabsolute(cv\u001b[38;5;241m.\u001b[39mSobel(img, cv\u001b[38;5;241m.\u001b[39mCV_64F, \u001b[38;5;241m0\u001b[39m, \u001b[38;5;241m1\u001b[39m, ksize\u001b[38;5;241m=\u001b[39mkernel_size)))\n\u001b[0;32m      9\u001b[0m     sobelxy \u001b[38;5;241m=\u001b[39m cv\u001b[38;5;241m.\u001b[39mbitwise_or(sobelx,sobely)\n",
      "\u001b[1;31merror\u001b[0m: OpenCV(4.6.0) D:\\a\\opencv-python\\opencv-python\\opencv\\modules\\imgproc\\src\\deriv.cpp:104: error: (-211:One of the arguments' values is out of range) The kernel size must be odd and not larger than 31 in function 'cv::getSobelKernels'\n"
     ]
    },
    {
     "ename": "error",
     "evalue": "OpenCV(4.6.0) D:\\a\\opencv-python\\opencv-python\\opencv\\modules\\imgproc\\src\\deriv.cpp:104: error: (-211:One of the arguments' values is out of range) The kernel size must be odd and not larger than 31 in function 'cv::getSobelKernels'\n",
     "output_type": "error",
     "traceback": [
      "\u001b[1;31m---------------------------------------------------------------------------\u001b[0m",
      "\u001b[1;31merror\u001b[0m                                     Traceback (most recent call last)",
      "Input \u001b[1;32mIn [8]\u001b[0m, in \u001b[0;36mthresh_callback\u001b[1;34m(val)\u001b[0m\n\u001b[0;32m      4\u001b[0m \u001b[38;5;28;01mdef\u001b[39;00m \u001b[38;5;21mthresh_callback\u001b[39m(val):\n\u001b[0;32m      5\u001b[0m     kernel_size \u001b[38;5;241m=\u001b[39m val\n\u001b[1;32m----> 7\u001b[0m     sobelx \u001b[38;5;241m=\u001b[39m cv\u001b[38;5;241m.\u001b[39mconvertScaleAbs(np\u001b[38;5;241m.\u001b[39mabsolute(\u001b[43mcv\u001b[49m\u001b[38;5;241;43m.\u001b[39;49m\u001b[43mSobel\u001b[49m\u001b[43m(\u001b[49m\u001b[43mimg\u001b[49m\u001b[43m,\u001b[49m\u001b[43m \u001b[49m\u001b[43mcv\u001b[49m\u001b[38;5;241;43m.\u001b[39;49m\u001b[43mCV_64F\u001b[49m\u001b[43m,\u001b[49m\u001b[43m \u001b[49m\u001b[38;5;241;43m1\u001b[39;49m\u001b[43m,\u001b[49m\u001b[43m \u001b[49m\u001b[38;5;241;43m0\u001b[39;49m\u001b[43m,\u001b[49m\u001b[43m \u001b[49m\u001b[43mksize\u001b[49m\u001b[38;5;241;43m=\u001b[39;49m\u001b[43mkernel_size\u001b[49m\u001b[43m)\u001b[49m))\n\u001b[0;32m      8\u001b[0m     sobely \u001b[38;5;241m=\u001b[39m cv\u001b[38;5;241m.\u001b[39mconvertScaleAbs(np\u001b[38;5;241m.\u001b[39mabsolute(cv\u001b[38;5;241m.\u001b[39mSobel(img, cv\u001b[38;5;241m.\u001b[39mCV_64F, \u001b[38;5;241m0\u001b[39m, \u001b[38;5;241m1\u001b[39m, ksize\u001b[38;5;241m=\u001b[39mkernel_size)))\n\u001b[0;32m      9\u001b[0m     sobelxy \u001b[38;5;241m=\u001b[39m cv\u001b[38;5;241m.\u001b[39mbitwise_or(sobelx,sobely)\n",
      "\u001b[1;31merror\u001b[0m: OpenCV(4.6.0) D:\\a\\opencv-python\\opencv-python\\opencv\\modules\\imgproc\\src\\deriv.cpp:104: error: (-211:One of the arguments' values is out of range) The kernel size must be odd and not larger than 31 in function 'cv::getSobelKernels'\n"
     ]
    }
   ],
   "source": [
    "import warnings\n",
    "warnings.filterwarnings(\"ignore\")\n",
    "# 1\n",
    "def thresh_callback(val):\n",
    "    kernel_size = val\n",
    "   \n",
    "    sobelx = cv.convertScaleAbs(np.absolute(cv.Sobel(img, cv.CV_64F, 1, 0, ksize=kernel_size)))\n",
    "    sobely = cv.convertScaleAbs(np.absolute(cv.Sobel(img, cv.CV_64F, 0, 1, ksize=kernel_size)))\n",
    "    sobelxy = cv.bitwise_or(sobelx,sobely)\n",
    "    \n",
    "    cv.imshow('result', sobelxy)\n",
    "    \n",
    "img = cv.imread('electronic.jfif', 0)\n",
    "blur = cv.GaussianBlur(img,(3,3),0)\n",
    "\n",
    "# define another window\n",
    "name_window = 'source'\n",
    "cv.namedWindow(name_window)\n",
    "cv.imshow(name_window, img)\n",
    "\n",
    "max_thresh = 10\n",
    "thresh = 1\n",
    "cv.createTrackbar('ksize: ', name_window, thresh, max_thresh, thresh_callback)\n",
    "thresh_callback(thresh)\n",
    "\n",
    "cv.waitKey(0)\n",
    "cv.destroyAllWindows() "
   ]
  },
  {
   "cell_type": "markdown",
   "id": "cfadc1d7",
   "metadata": {},
   "source": [
    "### Comment\n",
    "Kernel size = 1 is the most appropriate as it has minimum background noises."
   ]
  },
  {
   "cell_type": "code",
   "execution_count": 11,
   "id": "a986e86a",
   "metadata": {},
   "outputs": [],
   "source": [
    "# 2.\n",
    "img = cv.imread('electronic.jfif', 0)\n",
    "\n",
    "# Without image smoothing \n",
    "sobelx1 = cv.Sobel(img, cv.CV_64F, 1, 0, ksize = 1)\n",
    "sobely1 = cv.Sobel(img, cv.CV_64F, 0, 1, ksize = 1)\n",
    "sobelxy1 = cv.bitwise_or(sobelx1,sobely1)\n",
    "sobelxy1_8u = cv.convertScaleAbs(np.uint8(np.absolute(sobelxy1)))\n",
    "\n",
    "# With image smoothing (Gaussian blurring)\n",
    "img1 = cv.GaussianBlur(img,(3,3),0)\n",
    "sobelx2 = cv.Sobel(img1, cv.CV_64F, 1, 0, ksize = 1)\n",
    "sobely2 = cv.Sobel(img1, cv.CV_64F, 0, 1, ksize = 1)\n",
    "sobelxy2 = cv.bitwise_or(sobelx2,sobely2)\n",
    "sobelxy2_8u = cv.convertScaleAbs(np.uint8(np.absolute(sobelxy2)))\n",
    "\n",
    "# Display the 2 images\n",
    "cv.imshow('Result', np.hstack((sobelxy1_8u,sobelxy2_8u)))\n",
    "cv.waitKey(0)\n",
    "cv.destroyAllWindows()"
   ]
  },
  {
   "cell_type": "markdown",
   "id": "667d5c71",
   "metadata": {},
   "source": [
    "### Comment\n",
    "- In this case, with image smoothing, edges detection can be more precise as the background noises are reduced.  \n",
    "- ksize is set as 1 because more than 1 will result in detecting the noises as well."
   ]
  },
  {
   "cell_type": "code",
   "execution_count": 10,
   "id": "3591225d",
   "metadata": {},
   "outputs": [],
   "source": [
    "# 3.\n",
    "img = cv.imread('electronic.jfif', 0)\n",
    "\n",
    "# Laplacian of Gaussian\n",
    "# ksize = 1\n",
    "img_blur = cv.GaussianBlur(img, (5,5), 0)\n",
    "\n",
    "laplacian1 = cv.Laplacian(img_blur, cv.CV_64F, ksize = 1)\n",
    "laplacian1_8u = cv.convertScaleAbs(np.uint8(np.absolute(laplacian1)))\n",
    "\n",
    "# ksize = 3\n",
    "laplacian3 = cv.Laplacian(img_blur, cv.CV_64F, ksize = 3)\n",
    "laplacian3_8u = cv.convertScaleAbs(np.uint8(np.absolute(laplacian3)))\n",
    "\n",
    "cv.imshow('result', np.hstack((img_blur, laplacian1_8u, laplacian3_8u)))\n",
    "cv.waitKey(0)\n",
    "cv.destroyAllWindows()"
   ]
  },
  {
   "cell_type": "markdown",
   "id": "ac8c2477",
   "metadata": {},
   "source": [
    "### Comment\n",
    "In this case, ksize = 3 is better than ksize = 1 as it detects more edges by comparison. "
   ]
  },
  {
   "cell_type": "markdown",
   "id": "1971174b",
   "metadata": {},
   "source": [
    "### Activity 3\n",
    "Experiment with different edge detectors: Sobel, Laplacian, Prewitt, Scharr derivatives and Canny operators (all with aperture size of 3) on image named 'pineapple.jfif'. Comment on the results."
   ]
  },
  {
   "cell_type": "code",
   "execution_count": 12,
   "id": "fe0a92b5",
   "metadata": {},
   "outputs": [],
   "source": [
    "img = cv.imread('pineapple.jfif', 0)\n",
    "blur = cv.GaussianBlur(img,(3,3),0)\n",
    "\n",
    "# Sobel\n",
    "sobelx = cv.convertScaleAbs(cv.Sobel(blur, cv.CV_64F, 1, 0, ksize=3))\n",
    "sobely = cv.convertScaleAbs(cv.Sobel(blur, cv.CV_64F, 0, 1, ksize=3))\n",
    "sobelxy = cv.bitwise_or(sobelx,sobely)"
   ]
  },
  {
   "cell_type": "code",
   "execution_count": 13,
   "id": "d994b934",
   "metadata": {},
   "outputs": [],
   "source": [
    "# Laplacian\n",
    "laplacian = cv.Laplacian(blur, cv.CV_64F, ksize = 3)\n",
    "laplacian_8u = cv.convertScaleAbs(np.uint8(np.absolute(laplacian)))"
   ]
  },
  {
   "cell_type": "code",
   "execution_count": 14,
   "id": "d3124bd1",
   "metadata": {},
   "outputs": [],
   "source": [
    "# Prewitt\n",
    "kernelx = np.array([[1,1,1],[0,0,0],[-1,-1,-1]])\n",
    "kernely = np.array([[-1,0,1],[-1,0,1],[-1,0,1]])\n",
    "prewittx = cv.filter2D(blur, -1, kernelx)\n",
    "prewitty = cv.filter2D(blur, -1, kernely)\n",
    "prewittxy = cv.bitwise_or(prewittx,prewitty)\n",
    "prewittxy_8u = cv.convertScaleAbs(np.uint8(np.absolute(prewittxy)))"
   ]
  },
  {
   "cell_type": "code",
   "execution_count": 15,
   "id": "c672d440",
   "metadata": {},
   "outputs": [],
   "source": [
    "# Scharr\n",
    "scharrx = cv.convertScaleAbs(cv.Scharr(blur, cv.CV_64F, 1, 0))\n",
    "scharry = cv.convertScaleAbs(cv.Scharr(blur, cv.CV_64F, 0, 1))\n",
    "scharrxy = cv.bitwise_or(scharrx,scharry)\n",
    "scharrxy_8u = cv.convertScaleAbs(np.uint8(np.absolute(scharrxy)))"
   ]
  },
  {
   "cell_type": "code",
   "execution_count": 16,
   "id": "0ab1d079",
   "metadata": {},
   "outputs": [],
   "source": [
    "# Canny\n",
    "canny = cv.Canny(blur, 110, 255, 3)\n",
    "canny_8u = cv.convertScaleAbs(np.uint8(np.absolute(canny)))"
   ]
  },
  {
   "cell_type": "code",
   "execution_count": 17,
   "id": "3b65bd79",
   "metadata": {},
   "outputs": [],
   "source": [
    "# Display all images\n",
    "\n",
    "cv.imshow('Result - Sobel, Laplacian, Prewitt, Scharr, Canny', np.hstack((sobelxy, laplacian_8u, prewittxy_8u, scharrxy_8u, canny_8u)))\n",
    "cv.waitKey(0)\n",
    "cv.destroyAllWindows()"
   ]
  },
  {
   "cell_type": "markdown",
   "id": "8fdf0885",
   "metadata": {},
   "source": [
    "### Comment\n",
    "By comparision, Canny operators has the best result as it detects most edges of the pineapple while detecting minimum background noises. "
   ]
  },
  {
   "cell_type": "markdown",
   "id": "d79c09ae",
   "metadata": {},
   "source": [
    "### Activity 4\n",
    "Write a program to identify the white object (probably laptop) present in the image 'electronic.jfif'. Draw bounding boxes on the objects."
   ]
  },
  {
   "cell_type": "code",
   "execution_count": 18,
   "id": "d7666e67",
   "metadata": {},
   "outputs": [],
   "source": [
    "#Question 4\n",
    "electronic = cv.imread('electronic.jfif')\n",
    "electronic= cv.bilateralFilter(electronic, 8, 20, 5)\n",
    "electronic_gray = cv.cvtColor(electronic, cv.COLOR_BGR2GRAY)\n",
    "    \n",
    "windowname = \"window\"\n",
    "thresh = 182\n",
    "\n",
    "\n",
    "canny_output = cv.Canny(electronic_gray, thresh, int(2.5*thresh))\n",
    "\n",
    "contours, _ = cv.findContours(canny_output, cv.RETR_TREE, cv.CHAIN_APPROX_SIMPLE)\n",
    "\n",
    "#draw contours\n",
    "\n",
    "electronic_bgr = cv.imread('electronic.jfif')\n",
    "\n",
    "\n",
    "x, y, w, h = cv.boundingRect(contours[5])\n",
    "cv.rectangle(electronic_bgr, (x,y), (x+w, y+h), (0, 255, 0), 1, cv.LINE_AA)\n",
    "\n",
    "cv.imshow(windowname,electronic_bgr)\n",
    "cv.waitKey(0)\n",
    "cv.destroyAllWindows()"
   ]
  }
 ],
 "metadata": {
  "kernelspec": {
   "display_name": "Python 3 (ipykernel)",
   "language": "python",
   "name": "python3"
  },
  "language_info": {
   "codemirror_mode": {
    "name": "ipython",
    "version": 3
   },
   "file_extension": ".py",
   "mimetype": "text/x-python",
   "name": "python",
   "nbconvert_exporter": "python",
   "pygments_lexer": "ipython3",
   "version": "3.9.12"
  }
 },
 "nbformat": 4,
 "nbformat_minor": 5
}
